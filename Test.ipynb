{
 "cells": [
  {
   "cell_type": "markdown",
   "metadata": {},
   "source": [
    "# load data"
   ]
  },
  {
   "cell_type": "code",
   "execution_count": 3,
   "metadata": {
    "collapsed": false
   },
   "outputs": [],
   "source": [
    "%load_ext autoreload\n",
    "%autoreload 2\n",
    "import json\n",
    "import numpy as np\n",
    "import data_utils as D\n",
    "with open('./squad/train-v1.1.json') as f:\n",
    "    squad = json.load(f)\n",
    "pair, _ = D.format_data(squad)\n",
    "TOKENIZER_RE = D.TOKENIZER_RE"
   ]
  },
  {
   "cell_type": "code",
   "execution_count": null,
   "metadata": {
    "collapsed": false
   },
   "outputs": [],
   "source": [
    "pairs, _ = D.format_data(squad)\n",
    "v = D.create_vocab(pairs)\n",
    "with open('./squad/vocab_%d.json'%len(v),'w') as f:\n",
    "    json.dump(v,f)"
   ]
  },
  {
   "cell_type": "code",
   "execution_count": 46,
   "metadata": {
    "collapsed": true
   },
   "outputs": [],
   "source": [
    "def conform(a,b,i,j):\n",
    "    if i == len(a):\n",
    "        return True\n",
    "    if j == len(b):\n",
    "        return False\n",
    "    if a[i] != b[j]:\n",
    "        return False\n",
    "    if a[i] == b[j]:\n",
    "        return conform(a,b,i+1,j+1)\n",
    "    \n",
    "def locate_answer(plist,alist):\n",
    "    shape = [alist.shape[1]+1, plist.shape[1]+1] # N,T+1,Q+1\n",
    "    answers = []\n",
    "    for n,spa in enumerate(zip(plist, alist)):\n",
    "#         print n, spa\n",
    "        idx = []\n",
    "        sp, sa = spa\n",
    "        i_a =0; i_p = 0\n",
    "        while i_a < len(sa) and sa[i_a]!=0: i_a +=1\n",
    "        while i_p < len(sp) and sp[i_p]!=0: i_p +=1\n",
    "        sa = sa[:i_a]; sp = sp[:i_p]\n",
    "        start = []\n",
    "        for i in range(len(sp)):\n",
    "            if conform(sa, sp, 0, i):\n",
    "                start.append(i)\n",
    "#         print start\n",
    "        for t in range(i_a):\n",
    "            idx += [ [t,s+t] for s in start]\n",
    "        idx.append( [i_a,shape[1]-1] )\n",
    "        value = [1]*len(idx)\n",
    "        answers.append([idx,value,shape])\n",
    "    return answers\n",
    "        \n",
    "# tmpa = .copy()    \n",
    "# locate_answer(p[:2],tmpa[:2])\n",
    "\n",
    "def _transform_string(s,v,length):\n",
    "    unk = v['<UNK>']\n",
    "    Bian = np.zeros(length)\n",
    "    for i, t in enumerate(s):\n",
    "        Bian[i] = v[t] if t in v else unk\n",
    "    return Bian\n",
    "\n",
    "def transform(voca_path, data, qLen=None, pLen=None, aLen=None, shuffle=True):\n",
    "    triple=[]\n",
    "    ql = 0\n",
    "    pl = 0\n",
    "    al = 0\n",
    "    for p, qas in data:\n",
    "        p = TOKENIZER_RE.findall(p)\n",
    "        if len(p) > pl: pl = len(p)\n",
    "        for q,a in qas:\n",
    "            q = TOKENIZER_RE.findall(q)\n",
    "            a = TOKENIZER_RE.findall(a)\n",
    "            if len(q)>ql: ql=len(q)\n",
    "            if len(a)>al: al=len(a)\n",
    "            triple.append([p,q,a])\n",
    "                \n",
    "    if qLen is None or ql<qLen: qLen = ql\n",
    "    if pLen is None or pl<pLen: pLen = pl\n",
    "    if aLen is None or al<aLen: aLen = al\n",
    "    with open(voca_path, 'r') as f:\n",
    "        voca = json.load(f)\n",
    "    q_np = []\n",
    "    p_np = []\n",
    "    a_np = []\n",
    "    for p,q,a in triple:\n",
    "        p_np.append(_transform_string(p,voca,pLen))\n",
    "        q_np.append(_transform_string(q,voca,qLen))\n",
    "        a_np.append(_transform_string(a,voca,aLen))\n",
    "    p_np = np.stack(p_np).astype(np.int)\n",
    "    q_np = np.stack(q_np).astype(np.int)\n",
    "    a_np = np.stack(a_np).astype(np.int)\n",
    "    \n",
    "#     locate_answer(p_np,a_np)\n",
    "    return p_np, q_np, a_np"
   ]
  },
  {
   "cell_type": "code",
   "execution_count": 43,
   "metadata": {
    "collapsed": false
   },
   "outputs": [
    {
     "name": "stdout",
     "output_type": "stream",
     "text": [
      "(87599, 671) (87599, 40) (87599, 43)\n"
     ]
    }
   ],
   "source": [
    "p,q,a = transform('./squad/vocab_99036.json', pair)\n",
    "print p.shape, q.shape, a.shape"
   ]
  },
  {
   "cell_type": "code",
   "execution_count": 48,
   "metadata": {
    "collapsed": false
   },
   "outputs": [],
   "source": [
    "ans = locate_answer(p,a)"
   ]
  },
  {
   "cell_type": "code",
   "execution_count": 52,
   "metadata": {
    "collapsed": false
   },
   "outputs": [
    {
     "name": "stdout",
     "output_type": "stream",
     "text": [
      "[[[0, 90], [1, 91], [2, 92], [3, 671]], [1, 1, 1, 1], [44, 672]]\n",
      "[[[0, 32], [1, 33], [2, 34], [3, 35], [4, 36], [5, 671]], [1, 1, 1, 1, 1, 1], [44, 672]]\n",
      "[[[0, 25], [0, 49], [1, 26], [1, 50], [2, 27], [2, 51], [3, 671]], [1, 1, 1, 1, 1, 1, 1], [44, 672]]\n",
      "[[[0, 66], [1, 67], [2, 68], [3, 69], [4, 70], [5, 71], [6, 72], [7, 671]], [1, 1, 1, 1, 1, 1, 1, 1], [44, 672]]\n",
      "[[[0, 14], [1, 15], [2, 16], [3, 17], [4, 18], [5, 19], [6, 20], [7, 671]], [1, 1, 1, 1, 1, 1, 1, 1], [44, 672]]\n",
      "[[[0, 39], [1, 40], [2, 671]], [1, 1, 1], [44, 672]]\n",
      "[[[0, 46], [0, 68], [1, 671]], [1, 1, 1], [44, 672]]\n",
      "[[[0, 91], [0, 119], [0, 146], [0, 190], [1, 92], [1, 120], [1, 147], [1, 191], [2, 671]], [1, 1, 1, 1, 1, 1, 1, 1, 1], [44, 672]]\n",
      "[[[0, 20], [0, 194], [1, 671]], [1, 1, 1], [44, 672]]\n",
      "[[[0, 140], [1, 671]], [1, 1], [44, 672]]\n",
      "[[[0, 20], [1, 671]], [1, 1], [44, 672]]\n",
      "[[[0, 24], [0, 85], [0, 104], [1, 25], [1, 86], [1, 105], [2, 671]], [1, 1, 1, 1, 1, 1, 1], [44, 672]]\n",
      "[[[0, 39], [1, 40], [2, 671]], [1, 1, 1], [44, 672]]\n",
      "[[[0, 58], [1, 59], [2, 60], [3, 61], [4, 671]], [1, 1, 1, 1, 1], [44, 672]]\n",
      "[[[0, 108], [1, 109], [2, 110], [3, 111], [4, 671]], [1, 1, 1, 1, 1], [44, 672]]\n",
      "[[[0, 66], [1, 671]], [1, 1], [44, 672]]\n",
      "[[[0, 7], [1, 671]], [1, 1], [44, 672]]\n",
      "[[[0, 20], [1, 21], [2, 22], [3, 23], [4, 671]], [1, 1, 1, 1, 1], [44, 672]]\n",
      "[[[0, 41], [1, 671]], [1, 1], [44, 672]]\n",
      "[[[0, 25], [1, 26], [2, 671]], [1, 1, 1], [44, 672]]\n",
      "[[[0, 88], [1, 89], [2, 90], [3, 671]], [1, 1, 1, 1], [44, 672]]\n",
      "[[[0, 13], [1, 671]], [1, 1], [44, 672]]\n",
      "[[[0, 22], [0, 28], [1, 23], [1, 29], [2, 24], [2, 30], [3, 25], [3, 31], [4, 26], [4, 32], [5, 27], [5, 33], [6, 671]], [1, 1, 1, 1, 1, 1, 1, 1, 1, 1, 1, 1, 1], [44, 672]]\n",
      "[[[0, 107], [1, 108], [2, 109], [3, 110], [4, 111], [5, 671]], [1, 1, 1, 1, 1, 1], [44, 672]]\n",
      "[[[0, 62], [1, 671]], [1, 1], [44, 672]]\n",
      "[[[0, 101], [1, 102], [2, 103], [3, 671]], [1, 1, 1, 1], [44, 672]]\n",
      "[[[0, 182], [1, 183], [2, 184], [3, 185], [4, 671]], [1, 1, 1, 1, 1], [44, 672]]\n",
      "[[[0, 17], [1, 671]], [1, 1], [44, 672]]\n",
      "[[[0, 124], [1, 125], [2, 126], [3, 127], [4, 671]], [1, 1, 1, 1, 1], [44, 672]]\n",
      "[[[0, 1], [1, 2], [2, 3], [3, 4], [4, 5], [5, 6], [6, 7], [7, 8], [8, 671]], [1, 1, 1, 1, 1, 1, 1, 1, 1], [44, 672]]\n",
      "[[[0, 77], [1, 78], [2, 79], [3, 80], [4, 81], [5, 82], [6, 83], [7, 84], [8, 671]], [1, 1, 1, 1, 1, 1, 1, 1, 1], [44, 672]]\n",
      "[[[0, 48], [1, 671]], [1, 1], [44, 672]]\n",
      "[[[0, 61], [1, 62], [2, 671]], [1, 1, 1], [44, 672]]\n",
      "[[[0, 59], [1, 671]], [1, 1], [44, 672]]\n",
      "[[[1, 671]], [1], [44, 672]]\n",
      "[[[0, 25], [1, 26], [2, 27], [3, 28], [4, 671]], [1, 1, 1, 1, 1], [44, 672]]\n",
      "[[[0, 31], [1, 671]], [1, 1], [44, 672]]\n",
      "[[[0, 60], [1, 61], [2, 671]], [1, 1, 1], [44, 672]]\n",
      "[[[0, 68], [1, 69], [2, 671]], [1, 1, 1], [44, 672]]\n",
      "[[[0, 17], [0, 83], [1, 18], [1, 84], [2, 671]], [1, 1, 1, 1, 1], [44, 672]]\n",
      "[[[0, 25], [1, 26], [2, 671]], [1, 1, 1], [44, 672]]\n",
      "[[[0, 38], [1, 39], [2, 40], [3, 41], [4, 42], [5, 43], [6, 44], [7, 45], [8, 671]], [1, 1, 1, 1, 1, 1, 1, 1, 1], [44, 672]]\n",
      "[[[0, 85], [1, 86], [2, 671]], [1, 1, 1], [44, 672]]\n",
      "[[[0, 107], [1, 108], [2, 109], [3, 110], [4, 671]], [1, 1, 1, 1, 1], [44, 672]]\n",
      "[[[0, 5], [1, 6], [2, 671]], [1, 1, 1], [44, 672]]\n",
      "[[[0, 58], [1, 671]], [1, 1], [44, 672]]\n",
      "[[[0, 90], [1, 91], [2, 671]], [1, 1, 1], [44, 672]]\n",
      "[[[0, 25], [1, 26], [2, 671]], [1, 1, 1], [44, 672]]\n",
      "[[[0, 139], [1, 140], [2, 671]], [1, 1, 1], [44, 672]]\n",
      "[[[0, 0], [1, 1], [2, 2], [3, 3], [4, 4], [5, 5], [6, 671]], [1, 1, 1, 1, 1, 1, 1], [44, 672]]\n"
     ]
    }
   ],
   "source": [
    "for _ in ans[:50]: print _"
   ]
  },
  {
   "cell_type": "code",
   "execution_count": 17,
   "metadata": {
    "collapsed": true
   },
   "outputs": [
    {
     "name": "stdout",
     "output_type": "stream",
     "text": [
      "[[97116 65170 58432   570 41593 86003 31303 39078 65170 44041 72719 75909\n",
      "  87673 18776 41593 49353 10338 22830 65170 84017 69180 80035 90920 92166\n",
      "  22830 65170 44041 52256 47792 32141 18779 18776 41593 82029 10338 22830\n",
      "  95968  1405 62202 35961  1405 65170 75620 94742 13561 31508 64056 51668\n",
      "  75542 65170 44041 52256 18776 65170 31436 22830 65170  7626 77964 80035\n",
      "  68924 65170 31436 18776 65170   460 41593 48373 84372 22830 53019 47792\n",
      "  18077 18779 18776 41593 39868 22830 65170   460 13577 69602 13796 38079\n",
      "  65170 84017 69180 50690 14949 75542  1778 10801 68092 90920 53666 13577\n",
      "  65170 21569 22830 65170 44041 56047 47792 90920 41593  9052 63793 91118\n",
      "  42992 57041 50388  8694 47792 65170 75909 87673 18776 41593 82247 80575\n",
      "  57918 10338 22830 69180     0     0     0     0     0     0     0     0\n",
      "      0     0     0     0     0     0     0     0     0     0     0     0\n",
      "      0     0     0     0     0     0     0     0     0     0     0     0\n",
      "      0     0     0     0     0     0     0     0     0     0     0     0\n",
      "      0     0     0     0     0     0     0     0     0     0     0     0\n",
      "      0     0     0     0     0     0     0     0     0     0     0     0\n",
      "      0     0     0     0     0     0     0     0     0     0     0     0\n",
      "      0     0     0     0     0     0     0     0     0     0     0     0\n",
      "      0     0     0     0     0     0     0     0     0     0     0     0\n",
      "      0     0     0     0     0     0     0     0     0     0     0     0\n",
      "      0     0     0     0     0     0     0     0     0     0     0     0\n",
      "      0     0     0     0     0     0     0     0     0     0     0     0\n",
      "      0     0     0     0     0     0     0     0     0     0     0     0\n",
      "      0     0     0     0     0     0     0     0     0     0     0     0\n",
      "      0     0     0     0     0     0     0     0     0     0     0     0\n",
      "      0     0     0     0     0     0     0     0     0     0     0     0\n",
      "      0     0     0     0     0     0     0     0     0     0     0     0\n",
      "      0     0     0     0     0     0     0     0     0     0     0     0\n",
      "      0     0     0     0     0     0     0     0     0     0     0     0\n",
      "      0     0     0     0     0     0     0     0     0     0     0     0\n",
      "      0     0     0     0     0     0     0     0     0     0     0     0\n",
      "      0     0     0     0     0     0     0     0     0     0     0     0\n",
      "      0     0     0     0     0     0     0     0     0     0     0     0\n",
      "      0     0     0     0     0     0     0     0     0     0     0     0\n",
      "      0     0     0     0     0     0     0     0     0     0     0     0\n",
      "      0     0     0     0     0     0     0     0     0     0     0     0\n",
      "      0     0     0     0     0     0     0     0     0     0     0     0\n",
      "      0     0     0     0     0     0     0     0     0     0     0     0\n",
      "      0     0     0     0     0     0     0     0     0     0     0     0\n",
      "      0     0     0     0     0     0     0     0     0     0     0     0\n",
      "      0     0     0     0     0     0     0     0     0     0     0     0\n",
      "      0     0     0     0     0     0     0     0     0     0     0     0\n",
      "      0     0     0     0     0     0     0     0     0     0     0     0\n",
      "      0     0     0     0     0     0     0     0     0     0     0     0\n",
      "      0     0     0     0     0     0     0     0     0     0     0     0\n",
      "      0     0     0     0     0     0     0     0     0     0     0     0\n",
      "      0     0     0     0     0     0     0     0     0     0     0     0\n",
      "      0     0     0     0     0     0     0     0     0     0     0     0\n",
      "      0     0     0     0     0     0     0     0     0     0     0     0\n",
      "      0     0     0     0     0     0     0     0     0     0     0     0\n",
      "      0     0     0     0     0     0     0     0     0     0     0     0\n",
      "      0     0     0     0     0     0     0     0     0     0     0     0\n",
      "      0     0     0     0     0     0     0     0     0     0     0     0\n",
      "      0     0     0     0     0     0     0     0     0     0     0     0\n",
      "      0     0     0     0     0     0     0     0     0     0     0     0\n",
      "      0     0     0     0     0     0     0     0     0     0     0]]\n",
      "[[ 1778 10801 68092     0     0     0     0     0     0     0     0     0\n",
      "      0     0     0     0     0     0     0     0     0     0     0     0\n",
      "      0     0     0     0     0     0     0     0     0     0     0     0\n",
      "      0     0     0     0     0     0     0]]\n",
      "[[0, 0, 90], [0, 1, 91], [0, 2, 92], [0, 3, 671]] [1, 1, 1, 1] [1, 44, 672]\n"
     ]
    }
   ],
   "source": [
    "print p[:1]\n",
    "print a[:1]\n",
    "print idx, value, shape"
   ]
  },
  {
   "cell_type": "code",
   "execution_count": 30,
   "metadata": {
    "collapsed": false
   },
   "outputs": [
    {
     "name": "stdout",
     "output_type": "stream",
     "text": [
      "[1, 1, 1, 1] [[0, 90], [1, 91], [2, 92], [3, 671]] [44, 672]\n"
     ]
    }
   ],
   "source": [
    "from scipy import sparse\n",
    "i,v,s = ans[0]\n",
    "print v, i, s\n",
    "r = [_[0] for _ in i]\n",
    "c = [_[1] for _ in i]\n",
    "s = sparse.csc_matrix((v, (r,c)), s)"
   ]
  },
  {
   "cell_type": "code",
   "execution_count": 32,
   "metadata": {
    "collapsed": false
   },
   "outputs": [
    {
     "name": "stdout",
     "output_type": "stream",
     "text": [
      "[[0 0 0 ..., 0 0 0]\n",
      " [0 0 0 ..., 0 0 0]\n",
      " [0 0 0 ..., 0 0 0]\n",
      " ..., \n",
      " [0 0 0 ..., 0 0 0]\n",
      " [0 0 0 ..., 0 0 0]\n",
      " [0 0 0 ..., 0 0 0]]\n"
     ]
    }
   ],
   "source": [
    "print s.todense()"
   ]
  },
  {
   "cell_type": "code",
   "execution_count": null,
   "metadata": {
    "collapsed": true
   },
   "outputs": [],
   "source": [
    "def maxx(l):\n",
    "    m = 0\n",
    "    s = None\n",
    "    for _ in l:\n",
    "        if len(_) > m: m=len(_); s=_\n",
    "    return m, s"
   ]
  },
  {
   "cell_type": "code",
   "execution_count": null,
   "metadata": {
    "collapsed": false
   },
   "outputs": [],
   "source": [
    "part = [ _[2] for _ in tri ]\n",
    "m,s= maxx(part)\n",
    "print m,s"
   ]
  },
  {
   "cell_type": "code",
   "execution_count": null,
   "metadata": {
    "collapsed": false
   },
   "outputs": [],
   "source": []
  },
  {
   "cell_type": "markdown",
   "metadata": {
    "collapsed": true
   },
   "source": [
    "## Test Graph"
   ]
  },
  {
   "cell_type": "code",
   "execution_count": null,
   "metadata": {
    "collapsed": true
   },
   "outputs": [],
   "source": [
    "%load_ext autoreload \n",
    "%autoreload 2"
   ]
  },
  {
   "cell_type": "code",
   "execution_count": null,
   "metadata": {
    "collapsed": true
   },
   "outputs": [],
   "source": [
    "import tensorflow as tf\n",
    "from match_LSTM import MatchLSTM\n",
    "g = tf.Graph()\n",
    "sess = tf.Session()"
   ]
  },
  {
   "cell_type": "code",
   "execution_count": null,
   "metadata": {
    "collapsed": false,
    "scrolled": false
   },
   "outputs": [],
   "source": [
    "batch_size = 10\n",
    "vocab_size = 99036\n",
    "q_length = q.shape[1]\n",
    "p_length = p.shape[1]\n",
    "print q_length, p_length\n",
    "model = MatchLSTM(vocab_size,p_length, q_length, batch_size)\n",
    "model.build_model()"
   ]
  },
  {
   "cell_type": "code",
   "execution_count": null,
   "metadata": {
    "collapsed": true
   },
   "outputs": [],
   "source": [
    "init = tf.initialize_all_variables()\n",
    "sess.run(init)"
   ]
  },
  {
   "cell_type": "code",
   "execution_count": null,
   "metadata": {
    "collapsed": false
   },
   "outputs": [],
   "source": [
    "answer = sess.run( model.answer, \n",
    "                    feed_dict={ model.passage: p[:batch_size], model.question:q[:batch_size] } )"
   ]
  },
  {
   "cell_type": "code",
   "execution_count": null,
   "metadata": {
    "collapsed": false
   },
   "outputs": [],
   "source": [
    "answer.shape"
   ]
  }
 ],
 "metadata": {
  "kernelspec": {
   "display_name": "Python 2",
   "language": "python",
   "name": "python2"
  },
  "language_info": {
   "codemirror_mode": {
    "name": "ipython",
    "version": 2
   },
   "file_extension": ".py",
   "mimetype": "text/x-python",
   "name": "python",
   "nbconvert_exporter": "python",
   "pygments_lexer": "ipython2",
   "version": "2.7.6"
  }
 },
 "nbformat": 4,
 "nbformat_minor": 0
}
